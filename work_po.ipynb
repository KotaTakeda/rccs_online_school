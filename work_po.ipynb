{
 "metadata": {
  "language_info": {
   "codemirror_mode": {
    "name": "ipython",
    "version": 3
   },
   "file_extension": ".py",
   "mimetype": "text/x-python",
   "name": "python",
   "nbconvert_exporter": "python",
   "pygments_lexer": "ipython3",
   "version": 3
  },
  "orig_nbformat": 2
 },
 "nbformat": 4,
 "nbformat_minor": 2,
 "cells": [
  {
   "source": [
    "# PO法\n",
    "$ K = P^f H^T (H P^f H^T + R)^{-1} $に対して\n",
    "\n",
    "$ P^a =(I - KH) P^f(I - KH)^T + K R K^T = P^f (I - KH) P^f$ となるように\n",
    "\n",
    "$X_a = X_f + K(y^o + \\epsilon - H X_f)$と観測に摂動を与えて更新.\n",
    "\n"
   ],
   "cell_type": "markdown",
   "metadata": {}
  },
  {
   "source": [
    "%matplotlib inline\n",
    "import matplotlib.pyplot as plt\n",
    "import numpy as np\n",
    "import pandas as pd\n",
    "import seaborn as sns\n",
    "\n",
    "# モジュールの読み込み\n",
    "import sys\n",
    "sys.path.append('./')\n",
    "from utils import make_lorenz96, rk4, error_series_kf, plot_error_KF, estimate_error_with_params\n",
    "\n",
    "from kalman_filters import EnsembleKalmanFilter as ExKF"
   ],
   "cell_type": "code",
   "metadata": {},
   "execution_count": null,
   "outputs": []
  },
  {
   "cell_type": "code",
   "execution_count": null,
   "metadata": {},
   "outputs": [],
   "source": [
    "# Lorenz96の設定\n",
    "J = 40\n",
    "F = 8\n",
    "lorenz = make_lorenz96(F)\n",
    "\n",
    "# 同化step\n",
    "# 時間発展は0.01ごとに行う\n",
    "dt = 0.05\n",
    "\n",
    "# モデルの遷移関数(非線形)\n",
    "# 0.01ずつ時間発展させる\n",
    "# dtは同化step\n",
    "def M(x, dt):\n",
    "    for i in range(int(dt/0.01)):\n",
    "        x = rk4(0, x, 0.01, lorenz)\n",
    "    return x\n",
    "\n",
    "# 単位行列\n",
    "I = np.identity(J)\n",
    "\n",
    "# 観測\n",
    "H = I\n",
    "\n",
    "# モデル誤差共分散, 最初は完全モデルを仮定\n",
    "Q = np.zeros((J, J))\n",
    "\n",
    "# 観測誤差共分散, 後で定数倍の変化をさせる.\n",
    "R = I\n",
    "\n",
    "# 観測値と真値\n",
    "end_step = 500 # 開発用\n",
    "y = np.load('data/obs_atr.npy')\n",
    "true = np.load('data/true_atr.npy')\n",
    "\n",
    "# KFの初期値\n",
    "np.random.seed(1)\n",
    "x_0 = true[np.random.randint(len(true)-1)]\n",
    "P_0 = 25*I"
   ]
  },
  {
   "source": [
    "\n",
    "localization なし\n",
    "inflation なし\n"
   ],
   "cell_type": "markdown",
   "metadata": {}
  },
  {
   "cell_type": "code",
   "execution_count": null,
   "metadata": {},
   "outputs": [],
   "source": [
    "# 実行済\n",
    "# po = EnKF(M, H, Q, R, y, x_0, P_0, dim_x=J, dim_y=J, N=40, alpha=1, localization=False)\n",
    "# po.forward_estimation()\n",
    "# np.save('data/po/po.npy', po.x)"
   ]
  },
  {
   "cell_type": "code",
   "execution_count": null,
   "metadata": {},
   "outputs": [],
   "source": [
    "po_result = np.load('data/po/po.npy')\n",
    "plot_error_KF(true[1:], y[1:], [po_result[1:]])"
   ]
  },
  {
   "source": [
    "localization あり\n",
    "inflation なし\n"
   ],
   "cell_type": "markdown",
   "metadata": {}
  },
  {
   "cell_type": "code",
   "execution_count": null,
   "metadata": {},
   "outputs": [],
   "source": [
    "# 実行済\n",
    "# po = EnKF(M, H, Q, R, y, x_0, P_0, dim_x=J, dim_y=J, N=40, alpha=1, localization=True)\n",
    "# po.forward_estimation()\n",
    "# np.save('data/po/po.npy', po.x)"
   ]
  },
  {
   "cell_type": "code",
   "execution_count": null,
   "metadata": {},
   "outputs": [],
   "source": [
    "po_loc_result = np.load('data/po/po_loc.npy')\n",
    "plot_error_KF(true[1:], y[1:], [po_loc_result[1:]])"
   ]
  },
  {
   "source": [
    "localization なし\n",
    "inflation あり\n"
   ],
   "cell_type": "markdown",
   "metadata": {}
  },
  {
   "cell_type": "code",
   "execution_count": null,
   "metadata": {},
   "outputs": [],
   "source": [
    "# 実行済\n",
    "# po_inf = EnKF(M, H, Q, R, y, x_0, P_0, dim_x=J, dim_y=J, N=40, alpha=1.1, localization=False)\n",
    "# po_inf.forward_estimation()\n",
    "# np.save('data/po/po_inf.npy', po_inf.x)"
   ]
  },
  {
   "cell_type": "code",
   "execution_count": null,
   "metadata": {},
   "outputs": [],
   "source": [
    "po_inf_results = np.load('data/po/po_inf.npy')\n",
    "plot_error_KF(true[1:], y[1:], [po_inf_results[1:]])"
   ]
  },
  {
   "source": [
    "localizationあり, inflationあり"
   ],
   "cell_type": "markdown",
   "metadata": {}
  },
  {
   "cell_type": "code",
   "execution_count": null,
   "metadata": {},
   "outputs": [],
   "source": [
    "# 実行済\n",
    "# po_loc_inf = EnKF(M, H, Q, R, y, x_0, P_0, dim_x=J, dim_y=J, N=40, alpha=1.1, localization=True)\n",
    "# po_loc_inf.forward_estimation()\n",
    "# np.save('data/po/po_loc_inf.npy', po_loc_inf.x)"
   ]
  },
  {
   "cell_type": "code",
   "execution_count": null,
   "metadata": {},
   "outputs": [],
   "source": [
    "po_loc_inf_results= np.load('data/po/po_loc_inf.npy')\n",
    "plot_error_KF(true[1:], y[1:], [po_loc_inf_result[1:]])"
   ]
  },
  {
   "source": [
    "##  KFとの比較\n"
   ],
   "cell_type": "markdown",
   "metadata": {}
  },
  {
   "cell_type": "code",
   "execution_count": null,
   "metadata": {},
   "outputs": [],
   "source": [
    "exkf_opti_result = np.load('data/exkf/exkf_opti.npy')\n",
    "po_loc_inf_result = np.load('data/po/po_loc_inf.npy')\n",
    "plot_error_KF(true[1:], y[1:], [exkf_opti_result[1:], po_loc_inf_result[1:]], legends=['ExKF', 'EnKF(PO)'])"
   ]
  },
  {
   "source": [
    "## パラメータチューニング\n",
    "$ N = 10, 20, 30, 40, 50 $でそれぞれ最適な$\\alpha$を求める\n",
    "\n",
    "-> 56min26s"
   ],
   "cell_type": "markdown",
   "metadata": {}
  },
  {
   "cell_type": "code",
   "execution_count": null,
   "metadata": {},
   "outputs": [],
   "source": [
    "%%time\n",
    "# params_N = np.arange(1, 6)*10\n",
    "# optimal_alpha_by_N = []\n",
    "# for N in params_N:\n",
    "#     results_po_inf = []\n",
    "#     params_alpha = []\n",
    "#     for k in range(20):\n",
    "#         inf = 0.05*k\n",
    "#         params_alpha.append(1+inf)\n",
    "#         po_inf = EnKF(M, H, Q, R, y, x_0, P_0, N=N, alpha=1 + inf)\n",
    "#         po_inf.forward_estimation()\n",
    "#         results_po_inf.append(po_inf.x)\n",
    "#     optimal_alpha, optimal_idx = estimate_error_with_params(true, results_po_inf, params_alpha, 'alpha', plot=False)\n",
    "#     optimal_alpha_by_N.append(optimal_alpha)\n",
    "#     optimal_result = results_po_inf[optimal_idx]\n",
    "#     np.save('data/po/po_{}ensembles_inflation_parametrized.npy'.format(N), np.array(results_po_inf))\n",
    "#     np.save('data/po/po_{}ensembles_optimal.npy'.format(N), optimal_result)\n",
    "# np.save('data/po/po_optimal_alpha_for_10to50members.npy', optimal_alpha_by_N)"
   ]
  },
  {
   "cell_type": "code",
   "execution_count": null,
   "metadata": {},
   "outputs": [],
   "source": [
    "params_N = np.arange(1, 6)*10\n",
    "optimal_results_by_N = [np.load('data/po/po_{}ensembles_optimal.npy'.format(N)) for N in params_N]\n",
    "_ = estimate_error_with_params(true, optimal_results_by_N[:], params_N[:], 'N')\n",
    "# _ = estimate_error_with_params(true, optimal_results_by_N[2:], params_N[2:], 'N')"
   ]
  },
  {
   "source": [
    "## 観察\n",
    "- 20memberまではdivergenceは起きていない．\n",
    "- 50memberでもrmseが0.27程度なので精度が低い．"
   ],
   "cell_type": "markdown",
   "metadata": {}
  },
  {
   "cell_type": "code",
   "execution_count": null,
   "metadata": {},
   "outputs": [],
   "source": [
    "# params_N = np.arange(1,6)*10\n",
    "# results = np.array([np.load('data/po/po_{}ensembles_inflation_parametrized.npy'.format(N)) for N in params_N])\n",
    "# params_alpha = [1 + np.round(0.05*k, 3) for k in range(20)]\n",
    "\n",
    "# T = true.shape[0] - 200\n",
    "# true = np.load('data/true_atr.npy')\n",
    "# errors = np.zeros((20, 5))\n",
    "# for n in range(5):\n",
    "#     for k in range(20):\n",
    "#         errors[k, n] = error_series_kf(true, results[n,k], np.arange(T)+200).mean()\n",
    "# df = pd.DataFrame(errors, index=params_alpha, columns=params_N)\n",
    "# df.to_csv('data/po/po_N_alpha.csv')"
   ]
  },
  {
   "cell_type": "code",
   "execution_count": null,
   "metadata": {},
   "outputs": [],
   "source": [
    "%%time\n",
    "N=8\n",
    "po = EnKF(M, H, Q, R, y[:300], x_0, P_0, N=N, alpha=1.1, sigma=6)\n",
    "po.forward_estimation()\n",
    "_ = estimate_error_with_params(true, [po.x], [N], 'N')"
   ]
  },
  {
   "cell_type": "code",
   "execution_count": null,
   "metadata": {},
   "outputs": [],
   "source": [
    "%%time\n",
    "params_sigma = np.arange(1,11)\n",
    "params_alpha = []\n",
    "errors = np.zeros((3, len(params_sigma)))\n",
    "T = 100\n",
    "for n in range(len(params_sigma)):\n",
    "    sigma = params_sigma[n]\n",
    "    results_po = []\n",
    "    for k in range(3):\n",
    "        inf = 0.2 + 0.01*k\n",
    "        if n==0:\n",
    "            params_alpha.append(1+inf)\n",
    "        po = EnKF(M, H, Q, R, y[:300], x_0, P_0, N=10, alpha=1 + inf, sigma=sigma)\n",
    "        po.forward_estimation()\n",
    "        results_po.append(po.x)\n",
    "        error = error_series_kf(true, po.x, np.arange(T)+200).mean()\n",
    "        errors[k, n] = error\n",
    "        print('complete: {}, {}, error: {}'.format(sigma,1+inf, error))\n",
    "#     optimal_alpha, optimal_idx, optimal_error = estimate_error_with_params(true, results_po, params_alpha, 'alpha', plot=False)\n",
    "#     optimal_alpha_by_N.append(optimal_alpha)\n",
    "    # optimal_result = results_po[optimal_idx]\n",
    "    # np.save('data/srf/srf_{}ensembles_inflation_parametrized.npy'.format(N), np.array(results_po))\n",
    "    # np.save('data/srf/srf_{}ensembles_optimal.npy'.format(N), optimal_result)\n",
    "df = pd.DataFrame(errors, index=params_alpha, columns=params_sigma)\n"
   ]
  },
  {
   "source": [
    "## POのまとめ\n",
    "### 最適結果:\n",
    "- $ N=40 $(要検討)\n",
    "- $ \\alpha: 1.05$\n",
    "- localization: 2\n",
    "- 実行時間: 51.9s\n",
    "- rmse: 0.2705\n",
    "- memo: \n",
    "  - $N=20$では24s\n",
    "  - $N=200$では4minかかる\n",
    "\n",
    "### 問題\n",
    "- 新たにノイズを導入している.\n",
    "- アンサンブル数$N$回ノイズを加える計算がある．"
   ],
   "cell_type": "markdown",
   "metadata": {}
  },
  {
   "cell_type": "code",
   "execution_count": null,
   "metadata": {},
   "outputs": [],
   "source": []
  }
 ]
}