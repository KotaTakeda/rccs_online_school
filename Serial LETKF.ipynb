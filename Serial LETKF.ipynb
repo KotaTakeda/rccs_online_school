{
 "cells": [
  {
   "cell_type": "markdown",
   "metadata": {},
   "source": [
    "# Serial LETKF"
   ]
  },
  {
   "cell_type": "code",
   "execution_count": 1,
   "metadata": {},
   "outputs": [
    {
     "name": "stderr",
     "output_type": "stream",
     "text": [
      "/Users/sakajokenkyusitutakeda/.pyenv/versions/anaconda3-2020.02/envs/startup/lib/python3.7/site-packages/statsmodels/tools/_testing.py:19: FutureWarning: pandas.util.testing is deprecated. Use the functions in the public API at pandas.testing instead.\n",
      "  import pandas.util.testing as tm\n"
     ]
    }
   ],
   "source": [
    "%matplotlib inline\n",
    "import matplotlib.pyplot as plt\n",
    "import numpy as np\n",
    "import pandas as pd\n",
    "import seaborn as sns\n",
    "\n",
    "# モジュールの読み込み\n",
    "import sys\n",
    "sys.path.append('./module')\n",
    "from utils import make_lorenz96, rk4, error_series_kf, plot_error_KF, estimate_error_with_params\n",
    "from localization import plot_gaspari_cohn\n",
    "from kalman_filters import LocalEnsembleTransformKalmanFilter as LETKF"
   ]
  },
  {
   "cell_type": "code",
   "execution_count": 13,
   "metadata": {},
   "outputs": [],
   "source": [
    "# Lorenz96の設定\n",
    "J = 40\n",
    "F = 8\n",
    "lorenz = make_lorenz96(F)\n",
    "\n",
    "# 同化step\n",
    "# 時間発展は0.01ごとに行う\n",
    "dt = 0.05\n",
    "\n",
    "# モデルの遷移関数(非線形)\n",
    "# 0.01ずつ時間発展させる\n",
    "# dtは同化step\n",
    "def M(x, dt):\n",
    "    for i in range(int(dt/0.01)):\n",
    "        x = rk4(0, x, 0.01, lorenz)\n",
    "    return x\n",
    "\n",
    "# 単位行列\n",
    "I = np.identity(J)\n",
    "\n",
    "# 観測\n",
    "H = I\n",
    "\n",
    "# モデル誤差共分散, 最初は完全モデルを仮定\n",
    "Q = np.zeros((J, J))\n",
    "\n",
    "# 観測誤差共分散, 後で定数倍の変化をさせる.\n",
    "R = I\n",
    "\n",
    "# 観測値と真値\n",
    "y = np.load('data/obs_atr.npy')\n",
    "true = np.load('data/true_atr.npy')\n",
    "\n",
    "# KFの初期値\n",
    "np.random.seed(0)\n",
    "x_0 = true[np.random.randint(len(true)-1)]\n",
    "P_0 = 25*I"
   ]
  },
  {
   "cell_type": "code",
   "execution_count": 5,
   "metadata": {},
   "outputs": [],
   "source": [
    "import numpy as np\n",
    "from numpy import sqrt, trace, zeros, identity, exp, random\n",
    "from numpy.random import multivariate_normal, choice\n",
    "from numpy.linalg import inv\n",
    "import scipy\n",
    "from scipy.linalg import sqrtm\n",
    "\n",
    "# TODO: import改良\n",
    "import sys\n",
    "sys.path.append('./module')\n",
    "from localization import calc_dist, polynomial, gaspari_cohn\n"
   ]
  },
  {
   "cell_type": "code",
   "execution_count": 11,
   "metadata": {},
   "outputs": [],
   "source": [
    "#=========================\n",
    "# serial LETKF\n",
    "#=========================\n",
    "\"\"\"\n",
    "実装:\n",
    "    概要:\n",
    "        - ETKFを拡張．\n",
    "    forecast:\n",
    "        - EnKF共通．\n",
    "    update:\n",
    "        - input:\n",
    "            - X_f: アンサンブル, (m, N) (注: Pythonでの行列の表現．実際は(N, m))\n",
    "            - x_f: forecastの推定値，(N,)\n",
    "            - y_obs: 観測，(N,)\n",
    "        - 各時刻の観測でN=40回同化を行う．i番目の同化後のx_aをi+1番目のx_fとする．\n",
    "        - 各i(in 観測の変数の数)で\n",
    "            - 同化に利用する変数をi番目の変数の近くに制限．\n",
    "            - input: \n",
    "                - X_f: アンサンブル, (m, N) (注: Pythonでの行列の表現．実際は(N, m))\n",
    "                - x_f: (i-1)番目の推定値x_a, (N,)\n",
    "                - y_obs: i番目の付近に制限，(3,)\n",
    "            - output:\n",
    "                - X_a: アンサンブル, (m, N)\n",
    "                - x_a: i番目の推定値，(N,)\n",
    "\"\"\"\n",
    "class SerialLETKF:\n",
    "    def __init__(self, M, H, Q, R, y, x_0, P_0, m=40, dt=0.05, alpha=1, sigma=3):\n",
    "        self.M = M\n",
    "        self.H = H\n",
    "        self.Q = Q\n",
    "        self.R = R\n",
    "        self.y = y\n",
    "        self.m = m # アンサンブルメンバー数\n",
    "        self.dt = dt\n",
    "        \n",
    "        # 実装で技術的に必要\n",
    "        self.dim_x = Q.shape[0]\n",
    "        self.I = identity(m)\n",
    "        \n",
    "        self.alpha = alpha # inflation用の定数\n",
    "        self.sigma = sigma\n",
    "\n",
    "        # filtering実行用\n",
    "        self.x = [] # 記録用\n",
    "        self.trP = []\n",
    "\n",
    "        self._initialize(x_0, P_0, m)\n",
    "\n",
    "  #　初期状態\n",
    "    def _initialize(self, x_0, P_0, m):\n",
    "        random.seed(0)\n",
    "        self.X = x_0 + multivariate_normal(np.zeros(self.dim_x), P_0, m) # (m, J)\n",
    "        self.x_mean = self.X.mean(axis=0)\n",
    "    \n",
    "  # 逐次推定を行う\n",
    "    def forward_estimation(self):\n",
    "        for y_obs in self.y:\n",
    "            self._forecast()\n",
    "            self._update(y_obs)\n",
    "\n",
    "    # 更新/解析\n",
    "    def _update(self, y_obs):\n",
    "        X_f=self.X; x_f=self.x_mean; alpha = self.alpha; I = self.I; H = self.H; R = self.R; m = self.m; I = self.I\n",
    "        \n",
    "        for i in range(40):\n",
    "            # dX, dYを計算\n",
    "            X_f=self.X; x_f=X_f.mean(axis=0)\n",
    "            dX_f = X_f - x_f # (m, dim_x)\n",
    "            dX_f = sqrt(alpha)*dX_f # inflation\n",
    "            dY = (H@dX_f.T).T # (m, dim_y)\n",
    "        \n",
    "            # Kalman gain\n",
    "            K = dX_f.T@dY@inv(dY.T@dY + (m-1)*R) # (dim_x, dim_y)\n",
    "            K = (self._rho(i)*K.T).T # localization\n",
    "            \n",
    "            # 平均を更新\n",
    "            dy = self._restrict_observation(i, y_obs - H@x_f)\n",
    "            x_a = x_f + K@(dy) # dim_x\n",
    "\n",
    "            # dXを変換, I - dY^t(dYdY^t + (m-1)R)dYの平方根をとる\n",
    "            S = self._symmetric(I - dY@inv(dY.T@dY + (m-1)*R)@dY.T)\n",
    "            T = np.real(sqrtm(S)) # (m, m)\n",
    "            self.X = x_a + (dX_f.T@T).T # (m, dim_x)\n",
    "            \n",
    "        self.X = X_f\n",
    "        \n",
    "        # 記録: 更新した値のアンサンブル平均xを保存, 推定誤差共分散P_fのtraceを保存\n",
    "        self.x.append(self.X.mean(axis=0))\n",
    "        self.trP.append(sqrt(trace(dX_f.T@dX_f)/40))\n",
    "\n",
    "    # 予報/時間発展\n",
    "    def _forecast(self):\n",
    "        # アンサンブルで x(k) 予測\n",
    "        for i, s in enumerate(self.X):\n",
    "            self.X[i] = self.M(s, self.dt)\n",
    "\n",
    "        self.x_mean = self.X.mean(axis=0)\n",
    "    \n",
    "    def _restrict_observation(self, i, dy):\n",
    "            rst = zeros(40)\n",
    "            rst[i] = 1\n",
    "            rst[(i+1)%40]=1; rst[(i-1)%40]=1\n",
    "            # r[(i+2)%40]=1; r[(i-2)%40]=1\n",
    "            return dy\n",
    "     \n",
    "    def _rho(self, i):\n",
    "#         return np.array([gaspari_cohn(calc_dist(i, j), self.sigma) for j in range(self.dim_x)])\n",
    "\n",
    "        rho = np.array([exp(-min([(i-j)**2, (i+self.dim_x-j)**2])/self.sigma) for j in range(self.dim_x)])\n",
    "        return rho\n",
    "    \n",
    "    def _symmetric(self, S):\n",
    "        return 0.5*(S + S.T)"
   ]
  },
  {
   "cell_type": "code",
   "execution_count": 16,
   "metadata": {},
   "outputs": [
    {
     "data": {
      "image/png": "[encoded data removed]",
      "text/plain": [
       "<Figure size 1440x216 with 1 Axes>"
      ]
     },
     "metadata": {
      "needs_background": "light"
     },
     "output_type": "display_data"
    },
    {
     "name": "stdout",
     "output_type": "stream",
     "text": [
      "CPU times: user 46.3 s, sys: 151 ms, total: 46.4 s\n",
      "Wall time: 5.82 s\n"
     ]
    },
    {
     "data": {
      "text/plain": [
       "(8, 0, 3.82141362191132)"
      ]
     },
     "execution_count": 16,
     "metadata": {},
     "output_type": "execute_result"
    },
    {
     "data": {
      "image/png": "[encoded data removed]",
      "text/plain": [
       "<Figure size 432x288 with 1 Axes>"
      ]
     },
     "metadata": {
      "needs_background": "light"
     },
     "output_type": "display_data"
    }
   ],
   "source": [
    "%%time\n",
    "m = 8\n",
    "alpha = 1.5\n",
    "sigma = 5\n",
    "letkf = SerialLETKF(M, H, Q, R, y[:220], x_0, P_0, m=m, alpha=alpha, sigma=sigma)\n",
    "letkf.forward_estimation()\n",
    "plot_error_KF(true, y, [letkf.x], trPs=[letkf.trP])\n",
    "estimate_error_with_params(true, [letkf.x], [m], 'm')"
   ]
  },
  {
   "cell_type": "code",
   "execution_count": null,
   "metadata": {},
   "outputs": [],
   "source": []
  }
 ],
 "metadata": {
  "kernelspec": {
   "display_name": "Python 3",
   "language": "python",
   "name": "python3"
  },
  "language_info": {
   "codemirror_mode": {
    "name": "ipython",
    "version": 3
   },
   "file_extension": ".py",
   "mimetype": "text/x-python",
   "name": "python",
   "nbconvert_exporter": "python",
   "pygments_lexer": "ipython3",
   "version": "3.7.4"
  }
 },
 "nbformat": 4,
 "nbformat_minor": 2
}
