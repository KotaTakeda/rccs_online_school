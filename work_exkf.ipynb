{
 "metadata": {
  "language_info": {
   "codemirror_mode": {
    "name": "ipython",
    "version": 3
   },
   "file_extension": ".py",
   "mimetype": "text/x-python",
   "name": "python",
   "nbconvert_exporter": "python",
   "pygments_lexer": "ipython3",
   "version": 3
  },
  "orig_nbformat": 2
 },
 "nbformat": 4,
 "nbformat_minor": 2,
 "cells": [
  {
   "source": [
    "# ExKF\n",
    "\n",
    "## 実装の設定\n",
    "- モデルの遷移関数$M$は非線形なのでforecast stepの予報誤差共分散行列を計算する際に接線形近似を行う必要がある．\n",
    "  - サイクルのステップ幅を接線形近似が成り立つ範囲でとる必要がある．\n",
    "- 最初は完全モデルを仮定($Q=0$)\n",
    "- 観測$H$は単位行列$I$もしくはそのrankを落とした単位行列を使う．\n",
    "- $R = I $で観測データを生成したのでこれを使う．のちに$ R = rI$として$r$を変化させる．\n",
    "- 初期値:\n",
    "    - $x_0$: attractor上のランダムな点をとる\n",
    "    - $P_0 = 25I$: attractorの平均距離の2乗. 大きく取れば問題ない．\n"
   ],
   "cell_type": "markdown",
   "metadata": {}
  },
  {
   "cell_type": "code",
   "execution_count": null,
   "metadata": {},
   "outputs": [],
   "source": [
    "%matplotlib inline\n",
    "from mpl_toolkits.mplot3d import Axes3D\n",
    "import matplotlib.pyplot as plt\n",
    "import numpy as np\n",
    "import pandas as pd\n",
    "import seaborn as sns\n",
    "\n",
    "# モジュールの読み込み\n",
    "import sys\n",
    "sys.path.append('./')\n",
    "from utils import make_lorenz96, rk4, error_series_kf, plot_error_KF, estimate_error_with_params\n",
    "\n",
    "# ExKFをimport\n",
    "from kalman_filters import ExtendedKalmanFilter as ExKF"
   ]
  },
  {
   "cell_type": "code",
   "execution_count": null,
   "metadata": {},
   "outputs": [],
   "source": [
    "# Lorenz96の設定\n",
    "J = 40\n",
    "F = 8\n",
    "lorenz = make_lorenz96(F)\n",
    "\n",
    "# 同化step\n",
    "# 時間発展は0.01ごとに行う\n",
    "dt = 0.05\n",
    "\n",
    "# モデルの遷移関数(非線形)\n",
    "# 0.01ずつ時間発展させる\n",
    "# dtは同化step\n",
    "def M(x, dt):\n",
    "    for i in range(int(dt/0.01)):\n",
    "        x = rk4(0, x, 0.01, lorenz)\n",
    "    return x\n",
    "\n",
    "# 単位行列\n",
    "I = np.identity(J)\n",
    "\n",
    "# 観測\n",
    "H = I\n",
    "\n",
    "# モデル誤差共分散, 最初は完全モデルを仮定\n",
    "Q = np.zeros((J, J))\n",
    "\n",
    "# 観測誤差共分散, 後で定数倍の変化をさせる.\n",
    "R = I\n",
    "\n",
    "# 観測値と真値\n",
    "end_step = 500 # 開発用\n",
    "y = np.load('data/obs_atr.npy')\n",
    "true = np.load('data/true_atr.npy')\n",
    "\n",
    "# KFの初期値\n",
    "np.random.seed(1)\n",
    "x_0 = true[np.random.randint(len(true)-1)]\n",
    "P_0 = 25*I"
   ]
  },
  {
   "source": [
    "## demo"
   ],
   "cell_type": "markdown",
   "metadata": {}
  },
  {
   "cell_type": "code",
   "execution_count": null,
   "metadata": {},
   "outputs": [],
   "source": [
    "%%time\n",
    "# 実行済\n",
    "# exkf = ExKF(M, H, Q, R, y, x_0, P_0, dim_x=J, dt=dt)\n",
    "# exkf.forward_estimation()\n",
    "# np.save('data/exkf/exkf.npy', exkf.x)"
   ]
  },
  {
   "cell_type": "code",
   "execution_count": null,
   "metadata": {},
   "outputs": [],
   "source": [
    "exkf_x = np.load('data/exkf/exkf.npy')\n",
    "plot_error_KF(true, y, [exkf_x])"
   ]
  },
  {
   "cell_type": "code",
   "execution_count": null,
   "metadata": {},
   "outputs": [],
   "source": [
    "観察\n",
    "- 最初は推定誤差が観測誤差より小さくなっているが，ある時刻を超えると観測誤差を超えて大きくなってしまっている．\n",
    "  - 原因: 予報誤差共分散が時間経過とともに小さくなってしまって，モデルを信用しすぎてデータに含まれるノイズについていけていない．\n",
    "  - 対策: 誤差共分散膨張により予報誤差共分散が小さくなりすぎるのを防ぐ．"
   ]
  },
  {
   "source": [
    "## ExKFの観測分布への依存性を調べる\n",
    "\n",
    "*間違いがある*\n",
    "\n",
    "間引き方\n",
    "- 空間方向; 観測行列$H$のrankを落とした際の挙動を調べる．\n",
    "    - 端の観測値から順に間引く． -> 海陸分布\n",
    "    - 等間隔で間引く. -> gridが荒い\n",
    "    - 各時刻でランダムに間引く\n",
    "- 時間方向\n",
    "    - 同化ステップ幅を倍の0.1(12h)にする．"
   ],
   "cell_type": "markdown",
   "metadata": {}
  },
  {
   "source": [
    "#### 端の観測値から順に間引く"
   ],
   "cell_type": "markdown",
   "metadata": {}
  },
  {
   "cell_type": "code",
   "execution_count": null,
   "metadata": {},
   "outputs": [],
   "source": [
    "# 実行済\n",
    "# H_dege = I.copy()\n",
    "# obs_dege_results = []\n",
    "# for j in range(5):\n",
    "#     H_dege[j, j] = 0\n",
    "#     H_dege[J-1-j, J-1-j] = 0\n",
    "#     exkf_obs_dege = ExKF(M, H=H_dege, Q, R, y, x_0, P_0, dt=dt)\n",
    "#     exkf_obs_dege.forward_estimation()\n",
    "#     obs_dege_results.append(exkf_obs_dege.x)\n",
    "# np.save('data/exkf/exkf_obs_dege_array.npy', np.array(obs_dege_results))"
   ]
  },
  {
   "cell_type": "code",
   "execution_count": null,
   "metadata": {},
   "outputs": [],
   "source": [
    "exkf_obs_dege_results = np.load('data/exkf/exkf_obs_dege_array.npy')\n",
    "legends = ['rank H = 38', 'rank H = 36', 'rank H = 34', 'rank H = 32', 'rank H = 30']\n",
    "plot_error_KF(true, y, exkf_obs_dege_results, legends)"
   ]
  },
  {
   "source": [
    "inflationあり"
   ],
   "cell_type": "markdown",
   "metadata": {}
  },
  {
   "cell_type": "code",
   "execution_count": null,
   "metadata": {},
   "outputs": [],
   "source": [
    "# 旧s\n",
    "# H_dege = I.copy()\n",
    "# obs_dege_results = []\n",
    "# for j in range(20):\n",
    "#     H_dege[2*j, 2*j] = 0\n",
    "#     exkf_obs_dege = ExKF(M, H=H_dege, Q, R, y, x_0, P_0, dt=dt, alpha=1.1)\n",
    "#     exkf_obs_dege.forward_estimation()\n",
    "#     obs_dege_results.append(exkf_obs_dege.x)\n",
    "# np.save('data/exkf/exkf_obs_dege_array_with_inflation.npy', np.array(obs_dege_results))"
   ]
  },
  {
   "cell_type": "code",
   "execution_count": null,
   "metadata": {},
   "outputs": [],
   "source": [
    "# H_dege = I.copy()\n",
    "# obs_dege_results = []\n",
    "# for j in range(20):\n",
    "#     H_dege[2*j, 2*j] = 0\n",
    "# exkf_obs_dege = ExKF(M, H_dege, Q, R, y, x_0, P_0, dt=dt, alpha=1.22)\n",
    "# exkf_obs_dege.forward_estimation()\n",
    "# obs_dege_results.append(exkf_obs_dege.x)\n",
    "# np.save('data/exkf/exkf_obs_20dege_array_with_inflation.npy', np.array(obs_dege_results))"
   ]
  },
  {
   "cell_type": "code",
   "execution_count": null,
   "metadata": {},
   "outputs": [],
   "source": [
    "exkf_obs_dege_results_with_inf = np.load('data/exkf/exkf_obs_20dege_array_with_inflation.npy')\n",
    "plot_error_KF(true[100:], y[100:], [exkf_obs_dege_results_with_inf[0][100:]])"
   ]
  },
  {
   "source": [
    "### 20個まで観測を抜く(偶数番目)\n",
    "- 各$ H $で$\\alpha = 1.0 \\sim 1.3$で探索\n",
    "- 推定1h40min -> 結果: 1h36min\n"
   ],
   "cell_type": "markdown",
   "metadata": {}
  },
  {
   "cell_type": "code",
   "execution_count": null,
   "metadata": {},
   "outputs": [],
   "source": [
    "# %%time\n",
    "# H_dege = I.copy()\n",
    "# optimal_alpha_by_H = []\n",
    "# for j in range(20):\n",
    "#     H_dege[2*j, 2*j] = 0\n",
    "#     obs_dege_results = []\n",
    "#     params_alpha = []\n",
    "#     for k in range(6):\n",
    "#         inf = 0.05*k\n",
    "#         params_alpha.append(1+inf)\n",
    "#         exkf_obs_dege = ExKF(M, H_dege, Q, R, y, x_0, P_0, dt=dt, alpha=1+inf)\n",
    "#         exkf_obs_dege.forward_estimation()\n",
    "#         obs_dege_results.append(exkf_obs_dege.x)\n",
    "#     optimal_alpha, optimal_idx = estimate_error_with_params(true, obs_dege_results, params_alpha, 'alpha', plot=False)\n",
    "#     optimal_alpha_by_H.append(optimal_alpha)\n",
    "#     optimal_result = obs_dege_results[optimal_idx]\n",
    "#     np.save('data/exkf/exkf_obs_{}dege_inflation_parametrized.npy'.format(j), np.array(obs_dege_results))\n",
    "#     np.save('data/exkf/exkf_obs_{}dege_optimal.npy'.format(j), optimal_result)\n",
    "# np.save('data/exkf/exkf_optimal_alpha_for_obs_0to20dege.npy', np.array(optimal_alpha_by_H))"
   ]
  },
  {
   "cell_type": "code",
   "execution_count": null,
   "metadata": {},
   "outputs": [],
   "source": [
    "# 失敗したので再度実行\n",
    "# %%time\n",
    "# optimal_alpha_by_H = np.load('data/exkf/exkf_optimal_alpha_for_obs_0to20dege.npy')\n",
    "# H_dege = I.copy()\n",
    "# for j in range(20):\n",
    "#     H_dege[2*j, 2*j] = 0\n",
    "#     exkf_obs_dege = ExKF(M, H_dege, Q, R, y, x_0, P_0, dt=dt, alpha=optimal_alpha_by_H[j])\n",
    "#     exkf_obs_dege.forward_estimation()\n",
    "#     np.save('data/exkf/exkf_obs_{}dege_optimal.npy'.format(j), exkf_obs_dege.x)"
   ]
  },
  {
   "cell_type": "code",
   "execution_count": null,
   "metadata": {},
   "outputs": [],
   "source": [
    "params_H = range(1,21)\n",
    "results_by_H = [np.load('data/exkf/exkf_obs_{}dege_optimal.npy'.format(j-1)) for j in params_H]\n",
    "_ = estimate_error_with_params(true, results_by_H, params_H, 'alpha', plot=True)"
   ]
  },
  {
   "source": [
    "#＃# 観察\n",
    "- 観測を減らすごとに右肩上がりになっているがdivergenceは起きていない．"
   ],
   "cell_type": "markdown",
   "metadata": {}
  },
  {
   "source": [
    "## 各時刻でランダムに間引く\n",
    "\n",
    "パラメータ\n",
    "- 共分散膨張ありなし\n",
    "- cut size 20くらい\n",
    "\n",
    "- 各cut sizeで平均をとる． サンプル数5くらい\n"
   ],
   "cell_type": "markdown",
   "metadata": {}
  },
  {
   "cell_type": "code",
   "execution_count": null,
   "metadata": {},
   "outputs": [],
   "source": [
    "# %%time\n",
    "# results = []\n",
    "# max_cut_size = 20\n",
    "# n_samples = 5\n",
    "# for cut_obs_size in range(max_cut_size):\n",
    "#     print('===========\\n')\n",
    "#     print('cut_obs_size: {}'.format(cut_obs_size))\n",
    "    \n",
    "#     exkf_random_cut_obs_samples = []\n",
    "#     for n in range(n_samples):\n",
    "#         print('---------------')\n",
    "#         print('n: {}'.format(n))\n",
    "        \n",
    "#         exkf_random_cut_obs = ExKF(M, H, Q, R, y, x_0, P_0, dim_x=J, dt=dt, alpha=1.1, cut_obs_size=cut_obs_size)\n",
    "#         exkf_random_cut_obs.forward_estimation()\n",
    "#         exkf_random_cut_obs_samples.append(exkf_random_cut_obs.x)\n",
    "#     results.append(np.array(exkf_random_cut_obs_samples).mean(axis=0))\n",
    "# np.save('data/exkf/exkf_random_cut_obs_{}parametrized_{}samples.npy'.format(max_cut_size, n_samples), results)"
   ]
  },
  {
   "cell_type": "code",
   "execution_count": null,
   "metadata": {},
   "outputs": [],
   "source": [
    "max_cut_size = 20\n",
    "n_samples = 5\n",
    "exkf_random_cut_obs_results = np.load('data/exkf/exkf_random_cut_obs_{}parametrized_{}samples.npy'.format(max_cut_size, n_samples))\n",
    "params_cut_obs = range(max_cut_size)\n",
    "legends = ['cut size = {}'.format(n) for n in params_cut_obs]\n",
    "plot_error_KF(true, y, exkf_random_cut_obs_results, legends)\n",
    "estimate_error_with_params(true, exkf_random_cut_obs_results, params_cut_obs, 'cut size ({}sample mean)'.format(n_samples), log=False)"
   ]
  },
  {
   "source": [
    "- 綺麗な右肩上がりにはならなかった.\n",
    "- サンプル数が少なかったのかも.\n",
    "- 1を超えてrmseが悪くなっているものはない.\n"
   ],
   "cell_type": "markdown",
   "metadata": {}
  },
  {
   "source": [
    "### 20~39\n",
    "- 誤差共分散膨張1.1\n",
    "- cut size: 20 ~ 39\n",
    "- 各cut sizeで5サンプルの平均をとる"
   ],
   "cell_type": "markdown",
   "metadata": {}
  },
  {
   "cell_type": "code",
   "execution_count": null,
   "metadata": {},
   "outputs": [],
   "source": [
    "# %%time\n",
    "# results = []\n",
    "# max_cut_size = 40\n",
    "# n_samples = 5\n",
    "# for cut_obs_size in range(20, max_cut_size):\n",
    "#     print('===========\\n')\n",
    "#     print('cut_obs_size: {}'.format(cut_obs_size))\n",
    "    \n",
    "#     exkf_random_cut_obs_samples = []\n",
    "#     for n in range(n_samples):\n",
    "#         print('---------------')\n",
    "#         print('n: {}'.format(n))\n",
    "        \n",
    "#         exkf_random_cut_obs = ExKF(M, H, Q, R, y, x_0, P_0, dim_x=J, dt=dt, alpha=1.1, cut_obs_size=cut_obs_size)\n",
    "#         exkf_random_cut_obs.forward_estimation()\n",
    "#         exkf_random_cut_obs_samples.append(exkf_random_cut_obs.x)\n",
    "#     results.append(np.array(exkf_random_cut_obs_samples).mean(axis=0))\n",
    "# np.save('data/exkf/exkf_random_cut_obs_{}parametrized_{}samples.npy'.format(max_cut_size, n_samples), results)"
   ]
  },
  {
   "cell_type": "code",
   "execution_count": null,
   "metadata": {},
   "outputs": [],
   "source": [
    "max_cut_size = 40\n",
    "n_samples = 5\n",
    "exkf_random_cut_obs_results = np.load('data/exkf/exkf_random_cut_obs_{}parametrized_{}samples.npy'.format(max_cut_size, n_samples))\n",
    "params_cut_obs = range(20, 28)\n",
    "legends = ['cut size = {}'.format(n) for n in params_cut_obs]\n",
    "plot_error_KF(true, y, exkf_random_cut_obs_results[:8], legends)\n",
    "estimate_error_with_params(true, exkf_random_cut_obs_results, params_cut_obs, 'cut size ({}sample mean)'.format(n_samples), log=False)"
   ]
  },
  {
   "source": [
    "### 観察\n",
    "- 実行時間: 9298.583082914352 [sec]\n",
    "- rmseが1を超えるものも出てくる\n",
    "- 28個除いた時点で計算が発散している．"
   ],
   "cell_type": "markdown",
   "metadata": {}
  },
  {
   "source": [
    "## ExKFのパラメータ依存性\n",
    "1. $R = rI$として$r$を変化させる． ($r=1$で観測データを生成しているので$r=1$が正しい．）\n",
    "2. $Q = qI$として$q$を変化させる．\n",
    "\n",
    "仮説\n",
    "- $r$を大きくするとモデルに近づく.\n",
    "- $q$を大きくするとデータに近づく.\n"
   ],
   "cell_type": "markdown",
   "metadata": {}
  },
  {
   "source": [
    "### 観測誤差$R$を変化させる\n",
    "- $r$の値を指数的に増加させる．"
   ],
   "cell_type": "markdown",
   "metadata": {}
  },
  {
   "cell_type": "code",
   "execution_count": null,
   "metadata": {},
   "outputs": [],
   "source": [
    "# 実行済\n",
    "# results_exkf_r = []\n",
    "# params_r = []\n",
    "# for k in range(7):\n",
    "#     r = 10**(k-3)\n",
    "#     params_r.append(r)\n",
    "#     R_r = r*I\n",
    "#     exkf_r = ExKF(M, H, Q, R_r, y, x_0, P_0, dim_x=J, dt=dt)\n",
    "#     exkf_r.forward_estimation()\n",
    "#     results_exkf_r.append(exkf_r.x)\n",
    "# np.save('data/exkf/exkf_r_parametrized.npy', np.array(results_exkf_r))"
   ]
  },
  {
   "cell_type": "code",
   "execution_count": null,
   "metadata": {},
   "outputs": [],
   "source": [
    "exkf_results_r = np.load('data/exkf/exkf_r_parametrized.npy')\n",
    "params_r = [10**(k-3) for k in range(7)]\n",
    "legends_r = ['r = {}'.format(r) for r in params_r]\n",
    "plot_error_KF(true, y, exkf_results_r, legends = legends_r)\n",
    "estimate_error_with_params(true, exkf_results_r, params_r, 'r', log=True)"
   ]
  },
  {
   "source": [
    "### 観察\n",
    "- $r$を大きくすると途中で破綻しやすくなっている．\n",
    "  - 原因: 相対的にモデルの信頼度が上がるため．"
   ],
   "cell_type": "markdown",
   "metadata": {}
  },
  {
   "source": [
    "### モデル誤差$Q$を変化させる\n",
    "モデル誤差を導入．しかし真の時間並進作用素を知っているので不適切かも．\n",
    "TODO: $M$を近似したモデルを作る． -> [課題9](#課題9)\n",
    "- $q$の値を指数的に増加させる．"
   ],
   "cell_type": "markdown",
   "metadata": {}
  },
  {
   "cell_type": "code",
   "execution_count": null,
   "metadata": {},
   "outputs": [],
   "source": [
    "# 実行済\n",
    "# results_exkf_q = []\n",
    "# params_q = []\n",
    "# for k in range(7):\n",
    "#     q = 10**(k-3)\n",
    "#     params_q.append(q)\n",
    "#     Q_q = q*I\n",
    "#     var3d_q = ExKF(M, H, Q_q, R, y, x_0, P_0, dim_x=J, dt=dt)\n",
    "#     var3d_q.forward_estimation()\n",
    "#     results_exkf_q.append(var3d_q.x)\n",
    "# np.save('data/exkf/exkf_q_parametrized.npy', np.array(results_exkf_q))"
   ]
  },
  {
   "cell_type": "code",
   "execution_count": null,
   "metadata": {},
   "outputs": [],
   "source": [
    "exkf_result_q = np.load('data/exkf/exkf_q_parametrized.npy')\n",
    "params_q = [10**(k-3) for k in range(7)]\n",
    "legends_q = ['q = {}'.format(q) for q in params_q]\n",
    "plot_error_KF(true, y, exkf_result_q, legends=legends_q)\n",
    "estimate_error_with_params(true, exkf_result_q, params_q, 'q', log=True)"
   ]
  },
  {
   "source": [
    "### 観察\n",
    "- 途中で破綻せずに推定を行うことができている．\n",
    "- $q$を大きくすると推定誤差が観測誤差に近づく．"
   ],
   "cell_type": "markdown",
   "metadata": {}
  },
  {
   "source": [
    "## 誤差共分散膨張\n",
    "他のパラーメータが変わった場合は最適値が変わる\n",
    "- additive inflation: $ P^f = P^f + \\alpha I $と置き換える． 足す行列を吟味する必要がある．\n",
    "- multiplicative inflation: $ P^f = \\alpha P^f $\n",
    "- relaxation to prior: 元の値に近づける． ExKFではあまりやらないかも．\n",
    "- relaxation to prior spread: "
   ],
   "cell_type": "markdown",
   "metadata": {}
  },
  {
   "source": [
    "### 加法的誤差共分散膨張\n",
    "$ P^f = P^f + \\alpha I $"
   ],
   "cell_type": "markdown",
   "metadata": {}
  },
  {
   "cell_type": "code",
   "execution_count": null,
   "metadata": {},
   "outputs": [],
   "source": [
    "# ===========================\n",
    "# 注意: 旧verの実装なのでこのまま実行するとうまくいかない\n",
    "# ===========================\n",
    "# 実行済 加法的誤差共分散膨張のver\n",
    "# results_exkf_inf = []\n",
    "# params_inf = []\n",
    "# for k in range(5):\n",
    "#     inf = 10**(-k)\n",
    "#     params_inf.append(inf)\n",
    "#     exkf_inf = ExKF(M, H, Q, R, y, x_0, P_0, dim_x=J, dt=dt, alpha=inf)\n",
    "#     exkf_inf.forward_estimation()\n",
    "#     results_exkf_inf.append(exkf_inf.x)\n",
    "# np.save('data/exkf/exkf_inflation_parametrized.npy', np.array(results_exkf_inf))"
   ]
  },
  {
   "cell_type": "code",
   "execution_count": null,
   "metadata": {},
   "outputs": [],
   "source": [
    "params_inf = [10**(-k) for k in range(5)]\n",
    "exkf_inf_results = np.load('data/exkf/exkf_inflation_parametrized.npy')\n",
    "legends_inf = ['alpha = {}'.format(a) for a in params_inf]\n",
    "plot_error_KF(true, y, exkf_inf_results, legends=legends_inf)\n",
    "estimate_error_with_params(true, exkf_inf_results, params_inf, 'inflation factor alpha', log=True)\n",
    "estimate_error_with_params(true, exkf_inf_results[3:], params_inf[3:], 'additive inflation factor alpha', log=True)"
   ]
  },
  {
   "source": [
    "### 乗法的誤差共分散膨張\n",
    "<!--$P^f = \\alpha P^f $ -->\n",
    "\n",
    "$ P^f = (1 + \\alpha) P^f $の$ \\alpha$を変える"
   ],
   "cell_type": "markdown",
   "metadata": {}
  },
  {
   "source": [
    "# 実行済\n",
    "# results_exkf_multi_inf = []\n",
    "# for k in range(7):\n",
    "#     inf = 10**(k-3)\n",
    "#     exkf_multi_inf = ExKF(M, H, Q, R, y, x_0, P_0, dim_x=J, dt=dt, alpha=1 + inf)\n",
    "#     exkf_multi_inf.forward_estimation()\n",
    "#     results_exkf_multi_inf.append(exkf_multi_inf.x)\n",
    "# np.save('data/exkf/exkf_multi_inflation_parametrized.npy', np.array(results_exkf_multi_inf))"
   ],
   "cell_type": "code",
   "metadata": {},
   "execution_count": null,
   "outputs": []
  },
  {
   "cell_type": "code",
   "execution_count": null,
   "metadata": {},
   "outputs": [],
   "source": [
    "params_multi_inf = [10**(k-3) for k in range(7)]\n",
    "exkf_multi_inf_results = np.load('data/exkf/exkf_multi_inflation_parametrized.npy')\n",
    "legends_multi_inf = ['alpha = {}'.format(a) for a in params_multi_inf]\n",
    "plot_error_KF(true, y, exkf_multi_inf_results, legends=legends_multi_inf)\n",
    "estimate_error_with_params(true, exkf_multi_inf_results, params_multi_inf, 'inflation factor alpha', log=True)\n",
    "estimate_error_with_params(true, exkf_multi_inf_results[2:4], params_multi_inf[2:4], 'inflation factor alpha', log=True)"
   ]
  },
  {
   "source": [
    "### 観察\n",
    "- 加法的な場合は$ + 10^{-4} I $が良さそう．\n",
    "- 乗法的な場合は1.1倍くらいが良さそう．\n",
    "- 加法的な方がrmseの時間平均が小さくなっている．"
   ],
   "cell_type": "markdown",
   "metadata": {}
  },
  {
   "source": [
    "#### 乗法的細かく探索\n",
    "$ \\alpha $ を$ 0.01 \\sim 0.1$で探索"
   ],
   "cell_type": "markdown",
   "metadata": {}
  },
  {
   "cell_type": "code",
   "execution_count": null,
   "metadata": {},
   "outputs": [],
   "source": [
    "# results_exkf_multi_inf_detail = []\n",
    "# for k in range(30):\n",
    "#     inf = 0.08 + 0.0002*k\n",
    "#     exkf_multi_inf_detail = ExKF(M, H, Q, R, y, x_0, P_0, dim_x=J, dt=dt, alpha=1 + inf)\n",
    "#     exkf_multi_inf_detail.forward_estimation()\n",
    "#     results_exkf_multi_inf_detail.append(exkf_multi_inf_detail.x)\n",
    "# np.save('data/exkf/exkf_multi_inflation_detail_parametrized.npy', np.array(results_exkf_multi_inf_detail))"
   ]
  },
  {
   "cell_type": "code",
   "execution_count": null,
   "metadata": {},
   "outputs": [],
   "source": [
    "params_multi_inf_detail = [0.08 + 0.0002*k for k in range(30)]\n",
    "exkf_multi_inf_detail_results = np.load('data/exkf/exkf_multi_inflation_detail_parametrized.npy')\n",
    "legends_multi_inf_detail = ['alpha = {}'.format(a) for a in params_multi_inf_detail]\n",
    "plot_error_KF(true, y, exkf_multi_inf_detail_results, legends=legends_multi_inf_detail)\n",
    "estimate_error_with_params(true, exkf_multi_inf_detail_results, params_multi_inf_detail, 'inflation factor alpha', log=False)"
   ]
  },
  {
   "source": [
    "### 観察\n",
    "- $0.0842$が最適．\n",
    "- これ以降inflation時に$1.0842$倍をする．\n"
   ],
   "cell_type": "markdown",
   "metadata": {}
  },
  {
   "source": [
    "## 最適なExKFの結果を保存\n"
   ],
   "cell_type": "markdown",
   "metadata": {}
  },
  {
   "cell_type": "code",
   "execution_count": null,
   "metadata": {},
   "outputs": [],
   "source": [
    "# %%time\n",
    "# exkf_opti = ExKF(M, H, Q, R, y, x_0, P_0, dt=dt, alpha=1.0842)\n",
    "# exkf_opti.forward_estimation()\n",
    "# np.save('data/exkf/exkf_opti.npy', exkf_opti.x)"
   ]
  },
  {
   "source": [
    "## memo"
   ],
   "cell_type": "markdown",
   "metadata": {}
  },
  {
   "cell_type": "code",
   "execution_count": null,
   "metadata": {},
   "outputs": [],
   "source": [
    "# 誤差共分散膨張の失敗時の記録\n",
    "# end = 320\n",
    "# p_hist_q = np.load('data/p_hist_q.npy')\n",
    "# p_hist_inflation = np.load('data/p_hist_inflation.npy')\n",
    "# end = 320\n",
    "# plt.plot(np.trace(p_hist_q[1:end]), label='Q')\n",
    "# plt.plot(np.trace(p_hist_inflation[1:end]), label='inflation')\n",
    "# plt.legend()"
   ]
  }
 ]
}