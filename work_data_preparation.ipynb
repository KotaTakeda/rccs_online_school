{
 "metadata": {
  "language_info": {
   "codemirror_mode": {
    "name": "ipython",
    "version": 3
   },
   "file_extension": ".py",
   "mimetype": "text/x-python",
   "name": "python",
   "nbconvert_exporter": "python",
   "pygments_lexer": "ipython3",
   "version": 3
  },
  "orig_nbformat": 2
 },
 "nbformat": 4,
 "nbformat_minor": 2,
 "cells": [
  {
   "source": [
    "# 3. 2 年分積分し、最初の 1 年分をスピンアップとして捨てる。後半 1 年分を 6 時間毎に保存し ておく。"
   ],
   "cell_type": "markdown",
   "metadata": {}
  },
  {
   "cell_type": "code",
   "execution_count": null,
   "metadata": {},
   "outputs": [],
   "source": [
    "%matplotlib inline\n",
    "import matplotlib.pyplot as plt\n",
    "import numpy as np\n",
    "\n",
    "# モジュールの読み込み\n",
    "import sys\n",
    "sys.path.append('./module')\n",
    "from utils import make_lorenz96, rk4"
   ]
  },
  {
   "cell_type": "code",
   "execution_count": null,
   "metadata": {},
   "outputs": [],
   "source": [
    "def plot_lorenz96(result):\n",
    "    result = np.array(result)\n",
    "\n",
    "    # 摂動を加えた20番目の要素をplot\n",
    "    fig1, ax1 = plt.subplots()\n",
    "    ax1.plot(result[:, 19])\n",
    "    ax1.set_xlabel('step')\n",
    "    ax1.set_ylabel('$x_{20} $')\n",
    "    plt.title('plot 20th component')\n",
    "\n",
    "    # 1,2,3番目の要素を3次元plot\n",
    "    fig2 = plt.figure()\n",
    "    ax2 = fig2.gca(projection='3d')\n",
    "    ax2.plot(result[:, 0], result[:, 1], result[:, 2])\n",
    "    ax2.set_xlabel('$x_1$')\n",
    "    ax2.set_ylabel('$x_2$')\n",
    "    ax2.set_zlabel('$x_3$')\n",
    "    plt.title('first three components of Lorenz96')\n",
    "    \n",
    "    # Hovmoller Diagram\n",
    "    day = 50\n",
    "    Z = result[180*20:180*20 + day*20, :]\n",
    "    \n",
    "    fig3, ax3 = plt.subplots(figsize=(5,5))\n",
    "    ax3.grid(False)\n",
    "    ax3.set_xlabel('space')\n",
    "    ax3.set_ylabel('time(day)')\n",
    "    ax3.set_xticks(np.arange(0,40,5))\n",
    "    ax3.set_yticks(np.arange(day*20, 0, -20*5))\n",
    "    ax3.set_yticklabels(np.arange(180, 180+ day, 5))\n",
    "    im = ax3.imshow(Z, aspect=40/(day*20), extent=[0, 40, 0, day*20], vmax=Z.max(), vmin=Z.min())\n",
    "    plt.colorbar(im)\n",
    "    ax3.set_title('Hovmollor diagram')\n",
    "    \n",
    "    plt.show()"
   ]
  },
  {
   "cell_type": "code",
   "execution_count": null,
   "metadata": {},
   "outputs": [],
   "source": [
    "# J: 変数の数\n",
    "J = 40\n",
    "\n",
    "# 外力\n",
    "F=8\n",
    "lorenz = make_lorenz96(F)\n",
    "\n",
    "# dt: 時間刻み\n",
    "# 0.05で6h\n",
    "dt = 0.01\n",
    "\n",
    "# N: 時間ステップ数\n",
    "# 2年分に相当\n",
    "N = 360*2*20\n",
    "\n",
    "# 計算\n",
    "result = np.zeros((N,J))\n",
    "x = x0\n",
    "result[0] = x[:]\n",
    "\n",
    "for n in range(1,N):\n",
    "    t = n*dt\n",
    "    x = scheme(t, x, dt, lorenz)\n",
    "    result[n] = x[:]\n",
    "        \n",
    "\n",
    "# スピンアップを捨てる\n",
    "x_one_year = result[360*20:]\n",
    "\n",
    "# 6時間ごとを抽出\n",
    "x_by_6h = x_one_year[::5]\n",
    "\n",
    "np.save('data/true_atr.npy', x_by_6h)"
   ]
  },
  {
   "source": [
    "# 4. Mersenne Twister 等の性質の良い乱数生成プログラムを用いて分散 1 の正規分布乱数を生成 し、3で保存した 6 時間毎の場に足しこんで、別途保存する。これを観測データとする。\n",
    "\n",
    "標準正規分布$N(0,1)$に従うノイズを課題３で保存した真の値にのせて観測値として保存．"
   ],
   "cell_type": "markdown",
   "metadata": {}
  },
  {
   "cell_type": "code",
   "execution_count": null,
   "metadata": {},
   "outputs": [],
   "source": [
    "np.random.seed(1)\n",
    "obs_atr = load_true_atr + np.random.normal(loc=0, scale=1, size=load_true_atr.shape)\n",
    "np.save('data/obs_atr.npy', obs_atr)"
   ]
  },
  {
   "source": [
    "## 真の値と観測データをプロット"
   ],
   "cell_type": "markdown",
   "metadata": {}
  },
  {
   "cell_type": "code",
   "execution_count": null,
   "metadata": {},
   "outputs": [],
   "source": [
    "load_true_atr = np.laod('data/true_atr.npy')\n",
    "load_obs_atr = np.load('data/obs_atr.npy')\n",
    "\n",
    "dates = [time/4 for time in range(1440)]\n",
    "fig1, ax1 = plt.subplots(figsize=(20,5))\n",
    "ax1.plot(dates, load_obs_atr[:, 19], '-', label='obs', lineWidth=0.5)\n",
    "ax1.plot(dates, load_true_atr[:, 19],'-', label='true', lineWidth=0.5)\n",
    "ax1.set_xlabel('day')\n",
    "ax1.set_ylabel('$x_{20} $')\n",
    "plt.title('plot 20th component')\n",
    "_ = plt.legend()"
   ]
  }
 ]
}