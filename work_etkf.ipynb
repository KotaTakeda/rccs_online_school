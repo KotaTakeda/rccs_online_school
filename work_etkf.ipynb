{
 "metadata": {
  "language_info": {
   "codemirror_mode": {
    "name": "ipython",
    "version": 3
   },
   "file_extension": ".py",
   "mimetype": "text/x-python",
   "name": "python",
   "nbconvert_exporter": "python",
   "pygments_lexer": "ipython3",
   "version": 3
  },
  "orig_nbformat": 2
 },
 "nbformat": 4,
 "nbformat_minor": 2,
 "cells": [
  {
   "cell_type": "code",
   "execution_count": null,
   "metadata": {},
   "outputs": [],
   "source": [
    "%matplotlib inline\n",
    "from mpl_toolkits.mplot3d import Axes3D\n",
    "import matplotlib.pyplot as plt\n",
    "import numpy as np\n",
    "import pandas as pd\n",
    "import seaborn as sns\n",
    "\n",
    "# モジュールの読み込み\n",
    "import sys\n",
    "sys.path.append('./module')\n",
    "from utils import make_lorenz96, rk4, error_series_kf, plot_error_KF, estimate_error_with_params\n",
    "\n",
    "# EnSRF(ETKF)\n",
    "from kalman_filters import EnsembleSquareRootFilter as EnSRF"
   ]
  },
  {
   "cell_type": "code",
   "execution_count": null,
   "metadata": {},
   "outputs": [],
   "source": [
    "# Lorenz96の設定\n",
    "J = 40\n",
    "F = 8\n",
    "lorenz = make_lorenz96(F)\n",
    "\n",
    "# 同化step\n",
    "# 時間発展は0.01ごとに行う\n",
    "dt = 0.05\n",
    "\n",
    "# モデルの遷移関数(非線形)\n",
    "# 0.01ずつ時間発展させる\n",
    "# dtは同化step\n",
    "def M(x, dt):\n",
    "    for i in range(int(dt/0.01)):\n",
    "        x = rk4(0, x, 0.01, lorenz)\n",
    "    return x\n",
    "\n",
    "# 単位行列\n",
    "I = np.identity(J)\n",
    "\n",
    "# 観測\n",
    "H = I\n",
    "\n",
    "# モデル誤差共分散, 最初は完全モデルを仮定\n",
    "Q = np.zeros((J, J))\n",
    "\n",
    "# 観測誤差共分散, 後で定数倍の変化をさせる.\n",
    "R = I\n",
    "\n",
    "# 観測値と真値\n",
    "end_step = 500 # 開発用\n",
    "y = np.load('data/obs_atr.npy')\n",
    "true = np.load('data/true_atr.npy')\n",
    "\n",
    "# KFの初期値\n",
    "np.random.seed(1)\n",
    "x_0 = true[np.random.randint(len(true)-1)]\n",
    "P_0 = 25*I"
   ]
  },
  {
   "source": [
    "## Square Root Filter\n",
    "\n",
    "観測に摂動を与えずに最小誤差共分散\n",
    "$ P^a = (I - KH) P^f $を実現するような\n",
    "\n",
    "$X^a = X^f T$を満たす線形変換$T$を考える．[三好](https://www.metsoc.jp/tenki/pdf/2005/2005_02_0093.pdf)\n",
    "\n",
    "### Tの詳細\n",
    "- $ dX^f = X^f - x^f_{mean} $\n",
    "- $ dY = H dX^f $\n",
    "\n",
    "とすると$ K = dX dY^T (dY dY^T + R)^{-1} $なので\n",
    "\n",
    "$ T = \\sqrt{I - dY^T (dYdY^T + R)^{-1} dY} $\n",
    "\n",
    "とすれば良い．(直交変換の自由度があり一意的には定まらない)\n",
    "\n"
   ],
   "cell_type": "markdown",
   "metadata": {}
  },
  {
   "source": [
    "### 別の実装 from Whitaker and Hamill (2002, MWR)\n",
    "$ K = P^f H^T(H P^f H^T + R)^{-1} $に対して\n",
    "\n",
    "$ K' = \\alpha K$とおいて\n",
    "\n",
    "$ dX^a = dX^f + K'(y^o - HdX^f)$\n",
    "\n",
    "$ P^a = dX^a (dX^a)^T = (I-KH)P^f $となるように$\\alpha $を調整する．"
   ],
   "cell_type": "markdown",
   "metadata": {}
  },
  {
   "source": [
    "### パラメータチューニング\n",
    "- N = 10 ~ 50, 10刻み\n",
    "- $\\alpha = 1 \\sim 1.5, 0.05$刻み"
   ],
   "cell_type": "markdown",
   "metadata": {}
  },
  {
   "source": [
    "### 20メンバーでのinflation factor $\\alpha$のチューニング"
   ],
   "cell_type": "markdown",
   "metadata": {}
  },
  {
   "cell_type": "code",
   "execution_count": null,
   "metadata": {},
   "outputs": [],
   "source": [
    "# %%time\n",
    "# results = []\n",
    "# params_alpha = []\n",
    "# for k in range(10):\n",
    "#     inf = 0.11 - 0.01 + 0.01*k\n",
    "#     params_alpha.append(1+inf)\n",
    "#     srf_inf = EnSRF(M, H, Q, R, y, x_0, P_0, N=20, alpha=1 + inf)\n",
    "#     srf_inf.forward_estimation()\n",
    "#     results.append(srf_inf.x)\n",
    "# optimal_alpha, optimal_idx = estimate_error_with_params(true, results, params_alpha, 'alpha')\n",
    "# np.save('data/srf/srf_optimal_200member.npy', results[optimal_idx])"
   ]
  },
  {
   "source": [
    "### 観察\n",
    "- SRFが20memberで動くことが確認できた．\n",
    "- $\\alpha = 1.12$ 程度\n",
    "- 推定が落ち着くまでに100step以上かかっている．\n"
   ],
   "cell_type": "markdown",
   "metadata": {}
  },
  {
   "source": [
    "### 精度を重視して50メンバーでのinflation factor $\\alpha$のチューニング"
   ],
   "cell_type": "markdown",
   "metadata": {}
  },
  {
   "cell_type": "code",
   "execution_count": null,
   "metadata": {},
   "outputs": [],
   "source": [
    "# %%time\n",
    "# params_N = np.arange(1, 6)*10\n",
    "# optimal_alpha_by_N = []\n",
    "# params_alpha = []\n",
    "# errors = np.zeros((20, 5))\n",
    "# T = len(true) - 200\n",
    "# for N in params_N:\n",
    "#     results_srf_inf = []\n",
    "#     for k in range(20):\n",
    "#         inf = 0.005*k\n",
    "#         if N==10:\n",
    "#             params_alpha.append(1+inf)\n",
    "#         srf_inf = EnSRF(M, H, Q, R, y, x_0, P_0, N=N, alpha=1 + inf)\n",
    "#         srf_inf.forward_estimation()\n",
    "#         results_srf_inf.append(srf_inf.x)\n",
    "#         n = N//10 - 1\n",
    "#         errors[k, n] = error_series_kf(true, srf_inf.x, np.arange(T)+200).mean()\n",
    "#         print('complete: {}, {}'.format(N,1+inf))\n",
    "#     optimal_alpha, optimal_idx, optimal_error = estimate_error_with_params(true, results_srf_inf, params_alpha, 'alpha', plot=False)\n",
    "#     optimal_alpha_by_N.append(optimal_alpha)\n",
    "#     # optimal_result = results_srf_inf[optimal_idx]\n",
    "#     # np.save('data/srf/srf_{}ensembles_inflation_parametrized.npy'.format(N), np.array(results_srf_inf))\n",
    "#     # np.save('data/srf/srf_{}ensembles_optimal.npy'.format(N), optimal_result)\n",
    "# df = pd.DataFrame(errors, index=params_alpha, columns=params_N)\n",
    "# df.to_csv('data/srf/srf_N_alpha_rmse.csv')"
   ]
  },
  {
   "cell_type": "code",
   "execution_count": null,
   "metadata": {},
   "outputs": [],
   "source": [
    "%%time\n",
    "# results = []\n",
    "# params_alpha = []\n",
    "# for k in range(5):\n",
    "#     inf = 0.02 - 0.002 + 0.001*k\n",
    "#     params_alpha.append(1+inf)\n",
    "#     srf_inf = EnSRF(M, H, Q, R, y, x_0, P_0, N=50, alpha=1 + inf)\n",
    "#     srf_inf.forward_estimation()\n",
    "#     results.append(srf_inf.x)\n",
    "# optimal_alpha, optimal_idx = estimate_error_with_params(true, results, params_alpha, 'alpha')\n",
    "# np.save('data/srf/srf_optimal_50member.npy', results[optimal_idx])"
   ]
  },
  {
   "source": [
    "### 観察\n",
    "- $\\alpha = 1.021$ 程度\n",
    "- 実行時間: \n",
    "- rmse: 0.1679"
   ],
   "cell_type": "markdown",
   "metadata": {}
  },
  {
   "source": [
    "### EnSRFまとめ\n",
    "#### 最適結果:\n",
    "1. $ N=20 $(速度重視)\n",
    "  - $ \\alpha: 1.12$\n",
    "  - 実行時間: 23.9s\n",
    "  - rmse: 0.2099\n",
    "2. $ N = 40 $(精度重視)\n",
    "  - $ \\alpha: 1.021$\n",
    "  - 実行時間: 53.2s\n",
    "  - rmse: 0.16360\n",
    "2. $ N = 50 $(精度重視)\n",
    "  - $ \\alpha: 1.021$\n",
    "  - 実行時間: 2min2s\n",
    "  - rmse: 0.1679\n",
    "\n",
    "#### その他結果\n",
    "- N=200, alpha=1.1で実行すると12min32sかかり1200stepあたりでdivergenceが起きていたがtrPはずっと高いままだった\n",
    "- N=100, alpha=1.1で実行すると5min51sかかり1200stepあたりでdivergenceが起きていたがtrPはずっと高いままだった"
   ],
   "cell_type": "markdown",
   "metadata": {}
  }
 ]
}