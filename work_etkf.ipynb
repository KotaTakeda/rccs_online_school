{
 "cells": [
  {
   "cell_type": "code",
   "execution_count": 1,
   "metadata": {},
   "outputs": [
    {
     "name": "stderr",
     "output_type": "stream",
     "text": [
      "/Users/sakajokenkyusitutakeda/.pyenv/versions/anaconda3-2020.02/envs/startup/lib/python3.7/site-packages/statsmodels/tools/_testing.py:19: FutureWarning: pandas.util.testing is deprecated. Use the functions in the public API at pandas.testing instead.\n",
      "  import pandas.util.testing as tm\n"
     ]
    }
   ],
   "source": [
    "%matplotlib inline\n",
    "from mpl_toolkits.mplot3d import Axes3D\n",
    "import matplotlib.pyplot as plt\n",
    "import numpy as np\n",
    "import pandas as pd\n",
    "import seaborn as sns\n",
    "\n",
    "# モジュールの読み込み\n",
    "import sys\n",
    "sys.path.append('./module')\n",
    "from utils import make_lorenz96, rk4, error_series_kf, plot_error_KF, estimate_error_with_params\n",
    "\n",
    "# EnSRF(ETKF)\n",
    "from kalman_filters import EnsembleSquareRootFilter as EnSRF"
   ]
  },
  {
   "cell_type": "code",
   "execution_count": 2,
   "metadata": {},
   "outputs": [],
   "source": [
    "# Lorenz96の設定\n",
    "J = 40\n",
    "F = 8\n",
    "lorenz = make_lorenz96(F)\n",
    "\n",
    "# 同化step\n",
    "# 時間発展は0.01ごとに行う\n",
    "dt = 0.05\n",
    "\n",
    "# モデルの遷移関数(非線形)\n",
    "# 0.01ずつ時間発展させる\n",
    "# dtは同化step\n",
    "def M(x, dt):\n",
    "    for i in range(int(dt/0.01)):\n",
    "        x = rk4(0, x, 0.01, lorenz)\n",
    "    return x\n",
    "\n",
    "# 単位行列\n",
    "I = np.identity(J)\n",
    "\n",
    "# 観測\n",
    "H = I\n",
    "\n",
    "# モデル誤差共分散, 最初は完全モデルを仮定\n",
    "Q = np.zeros((J, J))\n",
    "\n",
    "# 観測誤差共分散, 後で定数倍の変化をさせる.\n",
    "R = I\n",
    "\n",
    "# 観測値と真値\n",
    "end_step = 500 # 開発用\n",
    "y = np.load('data/obs_atr.npy')\n",
    "true = np.load('data/true_atr.npy')\n",
    "\n",
    "# KFの初期値\n",
    "np.random.seed(1)\n",
    "x_0 = true[np.random.randint(len(true)-1)]\n",
    "P_0 = 25*I"
   ]
  },
  {
   "cell_type": "markdown",
   "metadata": {},
   "source": [
    "## Square Root Filter\n",
    "\n",
    "観測に摂動を与えずに最小誤差共分散\n",
    "$ P^a = (I - KH) P^f $を実現するような\n",
    "\n",
    "$X^a = X^f T$を満たす線形変換$T$を考える．[三好](https://www.metsoc.jp/tenki/pdf/2005/2005_02_0093.pdf)\n",
    "\n",
    "### Tの詳細\n",
    "- $ dX^f = X^f - x^f_{mean} $\n",
    "- $ dY = H dX^f $\n",
    "\n",
    "とすると$ K = dX dY^T (dY dY^T + R)^{-1} $なので\n",
    "\n",
    "$ T = \\sqrt{I - dY^T (dYdY^T + R)^{-1} dY} $\n",
    "\n",
    "とすれば良い．(直交変換の自由度があり一意的には定まらない)\n",
    "\n"
   ]
  },
  {
   "cell_type": "markdown",
   "metadata": {},
   "source": [
    "### 別の実装 from Whitaker and Hamill (2002, MWR)\n",
    "$ K = P^f H^T(H P^f H^T + R)^{-1} $に対して\n",
    "\n",
    "$ K' = \\alpha K$とおいて\n",
    "\n",
    "$ dX^a = dX^f + K'(y^o - HdX^f)$\n",
    "\n",
    "$ P^a = dX^a (dX^a)^T = (I-KH)P^f $となるように$\\alpha $を調整する．"
   ]
  },
  {
   "cell_type": "markdown",
   "metadata": {},
   "source": [
    "### パラメータチューニング\n",
    "- m = 10 ~ 50, 10刻み\n",
    "- $\\alpha = 1 \\sim 1.5, 0.05$刻み"
   ]
  },
  {
   "cell_type": "markdown",
   "metadata": {},
   "source": [
    "### 20メンバーでのinflation factor $\\alpha$のチューニング"
   ]
  },
  {
   "cell_type": "code",
   "execution_count": null,
   "metadata": {},
   "outputs": [],
   "source": [
    "# %%time\n",
    "# results = []\n",
    "# params_alpha = []\n",
    "# for k in range(10):\n",
    "#     inf = 0.11 - 0.01 + 0.01*k\n",
    "#     params_alpha.append(1+inf)\n",
    "#     srf_inf = EnSRF(M, H, Q, R, y, x_0, P_0, m=20, alpha=1 + inf)\n",
    "#     srf_inf.forward_estimation()\n",
    "#     results.append(srf_inf.x)\n",
    "# optimal_alpha, optimal_idx = estimate_error_with_params(true, results, params_alpha, 'alpha')\n",
    "# np.save('data/srf/srf_optimal_200member.npy', results[optimal_idx])"
   ]
  },
  {
   "cell_type": "markdown",
   "metadata": {},
   "source": [
    "### 観察\n",
    "- SRFが20memberで動くことが確認できた．\n",
    "- $\\alpha = 1.12$ 程度\n",
    "- 推定が落ち着くまでに100step以上かかっている．\n"
   ]
  },
  {
   "cell_type": "markdown",
   "metadata": {},
   "source": [
    "### 精度を重視して50メンバーでのinflation factor $\\alpha$のチューニング"
   ]
  },
  {
   "cell_type": "code",
   "execution_count": null,
   "metadata": {},
   "outputs": [],
   "source": [
    "# %%time\n",
    "# params_m = np.arange(1, 6)*10\n",
    "# optimal_alpha_by_m = []\n",
    "# params_alpha = []\n",
    "# errors = np.zeros((20, 5))\n",
    "# T = len(true) - 200\n",
    "# for m in params_m:\n",
    "#     results_srf_inf = []\n",
    "#     for k in range(20):\n",
    "#         inf = 0.005*k\n",
    "#         if m==10:\n",
    "#             params_alpha.append(1+inf)\n",
    "#         srf_inf = EnSRF(M, H, Q, R, y, x_0, P_0, m=m, alpha=1 + inf)\n",
    "#         srf_inf.forward_estimation()\n",
    "#         results_srf_inf.append(srf_inf.x)\n",
    "#         n = m//10 - 1\n",
    "#         errors[k, n] = error_series_kf(true, srf_inf.x, np.arange(T)+200).mean()\n",
    "#         print('complete: {}, {}'.format(m,1+inf))\n",
    "#     optimal_alpha, optimal_idx, optimal_error = estimate_error_with_params(true, results_srf_inf, params_alpha, 'alpha', plot=False)\n",
    "#     optimal_alpha_by_m.append(optimal_alpha)\n",
    "#     # optimal_result = results_srf_inf[optimal_idx]\n",
    "#     # np.save('data/srf/srf_{}ensembles_inflation_parametrized.npy'.format(m), np.array(results_srf_inf))\n",
    "#     # np.save('data/srf/srf_{}ensembles_optimal.npy'.format(m), optimal_result)\n",
    "# df = pd.DataFrame(errors, index=params_alpha, columns=params_m)\n",
    "# df.to_csv('data/srf/srf_m_alpha_rmse.csv')"
   ]
  },
  {
   "cell_type": "code",
   "execution_count": null,
   "metadata": {},
   "outputs": [],
   "source": [
    "%%time\n",
    "# results = []\n",
    "# params_alpha = []\n",
    "# for k in range(5):\n",
    "#     inf = 0.02 - 0.002 + 0.001*k\n",
    "#     params_alpha.append(1+inf)\n",
    "#     srf_inf = EnSRF(M, H, Q, R, y, x_0, P_0, m=50, alpha=1 + inf)\n",
    "#     srf_inf.forward_estimation()\n",
    "#     results.append(srf_inf.x)\n",
    "# optimal_alpha, optimal_idx = estimate_error_with_params(true, results, params_alpha, 'alpha')\n",
    "# np.save('data/srf/srf_optimal_50member.npy', results[optimal_idx])"
   ]
  },
  {
   "cell_type": "markdown",
   "metadata": {},
   "source": [
    "### 観察\n",
    "- $\\alpha = 1.021$ 程度\n",
    "- 実行時間: \n",
    "- rmse: 0.1679"
   ]
  },
  {
   "cell_type": "code",
   "execution_count": 3,
   "metadata": {},
   "outputs": [
    {
     "ename": "NameError",
     "evalue": "name 'inf' is not defined",
     "output_type": "error",
     "traceback": [
      "\u001b[0;31m---------------------------------------------------------------------------\u001b[0m",
      "\u001b[0;31mNameError\u001b[0m                                 Traceback (most recent call last)",
      "\u001b[0;32m<timed exec>\u001b[0m in \u001b[0;36m<module>\u001b[0;34m\u001b[0m\n",
      "\u001b[0;31mNameError\u001b[0m: name 'inf' is not defined"
     ]
    }
   ],
   "source": [
    "%%time\n",
    "alpha = 1.12\n",
    "etkf = EnSRF(M, H, Q, R, y, x_0, P_0, m=8, alpha=alpha)\n",
    "etkf.forward_estimation()\n",
    "plot_error_KF(true, y, [etkf.x])\n",
    "_, _, rmse = estimate_error_with_params(true, [etkf.x], [8], 'm', plot=False)\n",
    "print(rmse)"
   ]
  },
  {
   "cell_type": "markdown",
   "metadata": {},
   "source": [
    "### EnSRFまとめ\n",
    "#### 最適結果:\n",
    "1. $ m=20 $(速度重視)\n",
    "  - $ \\alpha: 1.12$\n",
    "  - 実行時間: 23.9s\n",
    "  - rmse: 0.2099\n",
    "2. $ m = 40 $(精度重視)\n",
    "  - $ \\alpha: 1.021$\n",
    "  - 実行時間: 53.2s\n",
    "  - rmse: 0.16360\n",
    "2. $ m = 50 $(精度重視)\n",
    "  - $ \\alpha: 1.021$\n",
    "  - 実行時間: 2min2s\n",
    "  - rmse: 0.1679\n",
    "\n",
    "#### その他結果\n",
    "- m=200, alpha=1.1で実行すると12min32sかかり1200stepあたりでdivergenceが起きていたがtrPはずっと高いままだった\n",
    "- m=100, alpha=1.1で実行すると5min51sかかり1200stepあたりでdivergenceが起きていたがtrPはずっと高いままだった"
   ]
  }
 ],
 "metadata": {
  "kernelspec": {
   "display_name": "Python 3",
   "language": "python",
   "name": "python3"
  },
  "language_info": {
   "codemirror_mode": {
    "name": "ipython",
    "version": 3
   },
   "file_extension": ".py",
   "mimetype": "text/x-python",
   "name": "python",
   "nbconvert_exporter": "python",
   "pygments_lexer": "ipython3",
   "version": "3.7.4"
  }
 },
 "nbformat": 4,
 "nbformat_minor": 2
}
