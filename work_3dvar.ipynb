{
 "metadata": {
  "language_info": {
   "codemirror_mode": {
    "name": "ipython",
    "version": 3
   },
   "file_extension": ".py",
   "mimetype": "text/x-python",
   "name": "python",
   "nbconvert_exporter": "python",
   "pygments_lexer": "ipython3",
   "version": "3.7.6-final"
  },
  "orig_nbformat": 2,
  "kernelspec": {
   "name": "Python 3.7.6 64-bit",
   "display_name": "Python 3.7.6 64-bit",
   "metadata": {
    "interpreter": {
     "hash": "67f1a208696cfffe8cfa7f201becebb3335f27e438719f1340e9b0635bd6360b"
    }
   }
  }
 },
 "nbformat": 4,
 "nbformat_minor": 2,
 "cells": [
  {
   "source": [
    "# 3DVar(3次元変分法)\n",
    "予報誤差共分散を更新しない．速い．"
   ],
   "cell_type": "markdown",
   "metadata": {}
  },
  {
   "cell_type": "code",
   "execution_count": 2,
   "metadata": {},
   "outputs": [],
   "source": [
    "%matplotlib inline\n",
    "import matplotlib.pyplot as plt\n",
    "import numpy as np\n",
    "import pandas as pd\n",
    "import seaborn as sns\n",
    "\n",
    "# モジュールの読み込み\n",
    "import sys\n",
    "sys.path.append('./module')\n",
    "from utils import make_lorenz96, rk4, error_series_kf, plot_error_KF, estimate_error_with_params\n",
    "\n",
    "from kalman_filters import EnsembleKalmanFilter as ExKF"
   ]
  },
  {
   "cell_type": "code",
   "execution_count": 5,
   "metadata": {},
   "outputs": [
    {
     "output_type": "error",
     "ename": "NameError",
     "evalue": "name 'make_lorenz96' is not defined",
     "traceback": [
      "\u001b[0;31m---------------------------------------------------------------------------\u001b[0m",
      "\u001b[0;31mNameError\u001b[0m                                 Traceback (most recent call last)",
      "\u001b[0;32m<ipython-input-5-ae3233c2f1f8>\u001b[0m in \u001b[0;36m<module>\u001b[0;34m\u001b[0m\n\u001b[1;32m      2\u001b[0m \u001b[0mJ\u001b[0m \u001b[0;34m=\u001b[0m \u001b[0;36m40\u001b[0m\u001b[0;34m\u001b[0m\u001b[0;34m\u001b[0m\u001b[0m\n\u001b[1;32m      3\u001b[0m \u001b[0mF\u001b[0m \u001b[0;34m=\u001b[0m \u001b[0;36m8\u001b[0m\u001b[0;34m\u001b[0m\u001b[0;34m\u001b[0m\u001b[0m\n\u001b[0;32m----> 4\u001b[0;31m \u001b[0mlorenz\u001b[0m \u001b[0;34m=\u001b[0m \u001b[0mmake_lorenz96\u001b[0m\u001b[0;34m(\u001b[0m\u001b[0mF\u001b[0m\u001b[0;34m)\u001b[0m\u001b[0;34m\u001b[0m\u001b[0;34m\u001b[0m\u001b[0m\n\u001b[0m\u001b[1;32m      5\u001b[0m \u001b[0;34m\u001b[0m\u001b[0m\n\u001b[1;32m      6\u001b[0m \u001b[0;31m# 同化step\u001b[0m\u001b[0;34m\u001b[0m\u001b[0;34m\u001b[0m\u001b[0;34m\u001b[0m\u001b[0m\n",
      "\u001b[0;31mNameError\u001b[0m: name 'make_lorenz96' is not defined"
     ]
    }
   ],
   "source": [
    "# Lorenz96の設定\n",
    "J = 40\n",
    "F = 8\n",
    "lorenz = make_lorenz96(F)\n",
    "\n",
    "# 同化step\n",
    "# 時間発展は0.01ごとに行う\n",
    "dt = 0.05\n",
    "\n",
    "# モデルの遷移関数(非線形)\n",
    "# 0.01ずつ時間発展させる\n",
    "# dtは同化step\n",
    "def M(x, dt):\n",
    "    for i in range(int(dt/0.01)):\n",
    "        x = rk4(0, x, 0.01, lorenz)\n",
    "    return x\n",
    "\n",
    "# 単位行列\n",
    "I = np.identity(J)\n",
    "\n",
    "# 観測\n",
    "H = I\n",
    "\n",
    "# モデル誤差共分散, 最初は完全モデルを仮定\n",
    "Q = np.zeros((J, J))\n",
    "\n",
    "# 観測誤差共分散, 後で定数倍の変化をさせる.\n",
    "R = I\n",
    "\n",
    "# 観測値と真値\n",
    "end_step = 500 # 開発用\n",
    "y = np.load('data/obs_atr.npy')\n",
    "true = np.load('data/true_atr.npy')\n",
    "\n",
    "# KFの初期値\n",
    "np.random.seed(1)\n",
    "x_0 = true[np.random.randint(len(true)-1)]\n",
    "P_0 = 25*I"
   ]
  },
  {
   "cell_type": "code",
   "execution_count": 4,
   "metadata": {},
   "outputs": [
    {
     "output_type": "error",
     "ename": "NameError",
     "evalue": "name 'I' is not defined",
     "traceback": [
      "\u001b[0;31m---------------------------------------------------------------------------\u001b[0m",
      "\u001b[0;31mNameError\u001b[0m                                 Traceback (most recent call last)",
      "\u001b[0;32m<timed exec>\u001b[0m in \u001b[0;36m<module>\u001b[0;34m\u001b[0m\n",
      "\u001b[0;31mNameError\u001b[0m: name 'I' is not defined"
     ]
    }
   ],
   "source": [
    "%%time\n",
    "# 実行済\n",
    "# 予報誤差共分散の初期値更新しないので小さくしておく\n",
    "P_00 = I\n",
    "\n",
    "var3d = ExKF(M, H, Q, R, y, x_0, P_00, dt=dt, var3d=True)\n",
    "var3d.forward_estimation()\n",
    "np.save('data/var3d/var3d.npy', var3d.x)"
   ]
  },
  {
   "cell_type": "code",
   "execution_count": 3,
   "metadata": {},
   "outputs": [
    {
     "output_type": "error",
     "ename": "FileNotFoundError",
     "evalue": "[Errno 2] No such file or directory: 'data/var3d/var3d.npy'",
     "traceback": [
      "\u001b[0;31m---------------------------------------------------------------------------\u001b[0m",
      "\u001b[0;31mFileNotFoundError\u001b[0m                         Traceback (most recent call last)",
      "\u001b[0;32m<ipython-input-3-bd0c3fc48322>\u001b[0m in \u001b[0;36m<module>\u001b[0;34m\u001b[0m\n\u001b[0;32m----> 1\u001b[0;31m \u001b[0mvar3d_x\u001b[0m \u001b[0;34m=\u001b[0m \u001b[0mnp\u001b[0m\u001b[0;34m.\u001b[0m\u001b[0mload\u001b[0m\u001b[0;34m(\u001b[0m\u001b[0;34m'data/var3d/var3d.npy'\u001b[0m\u001b[0;34m)\u001b[0m\u001b[0;34m\u001b[0m\u001b[0;34m\u001b[0m\u001b[0m\n\u001b[0m\u001b[1;32m      2\u001b[0m \u001b[0mplot_error_KF\u001b[0m\u001b[0;34m(\u001b[0m\u001b[0mtrue\u001b[0m\u001b[0;34m,\u001b[0m \u001b[0my\u001b[0m\u001b[0;34m,\u001b[0m \u001b[0;34m[\u001b[0m\u001b[0mvar3d_x\u001b[0m\u001b[0;34m]\u001b[0m\u001b[0;34m)\u001b[0m\u001b[0;34m\u001b[0m\u001b[0;34m\u001b[0m\u001b[0m\n",
      "\u001b[0;32m~/.pyenv/versions/anaconda3-2020.02/lib/python3.7/site-packages/numpy/lib/npyio.py\u001b[0m in \u001b[0;36mload\u001b[0;34m(file, mmap_mode, allow_pickle, fix_imports, encoding)\u001b[0m\n\u001b[1;32m    426\u001b[0m         \u001b[0mown_fid\u001b[0m \u001b[0;34m=\u001b[0m \u001b[0;32mFalse\u001b[0m\u001b[0;34m\u001b[0m\u001b[0;34m\u001b[0m\u001b[0m\n\u001b[1;32m    427\u001b[0m     \u001b[0;32melse\u001b[0m\u001b[0;34m:\u001b[0m\u001b[0;34m\u001b[0m\u001b[0;34m\u001b[0m\u001b[0m\n\u001b[0;32m--> 428\u001b[0;31m         \u001b[0mfid\u001b[0m \u001b[0;34m=\u001b[0m \u001b[0mopen\u001b[0m\u001b[0;34m(\u001b[0m\u001b[0mos_fspath\u001b[0m\u001b[0;34m(\u001b[0m\u001b[0mfile\u001b[0m\u001b[0;34m)\u001b[0m\u001b[0;34m,\u001b[0m \u001b[0;34m\"rb\"\u001b[0m\u001b[0;34m)\u001b[0m\u001b[0;34m\u001b[0m\u001b[0;34m\u001b[0m\u001b[0m\n\u001b[0m\u001b[1;32m    429\u001b[0m         \u001b[0mown_fid\u001b[0m \u001b[0;34m=\u001b[0m \u001b[0;32mTrue\u001b[0m\u001b[0;34m\u001b[0m\u001b[0;34m\u001b[0m\u001b[0m\n\u001b[1;32m    430\u001b[0m \u001b[0;34m\u001b[0m\u001b[0m\n",
      "\u001b[0;31mFileNotFoundError\u001b[0m: [Errno 2] No such file or directory: 'data/var3d/var3d.npy'"
     ]
    }
   ],
   "source": [
    "var3d_x = np.load('data/var3d/var3d.npy')\n",
    "plot_error_KF(true, y, [var3d_x])"
   ]
  },
  {
   "source": [
    "観察\n",
    "- 観測データよりは良い推定を安定して行うことができている．"
   ],
   "cell_type": "markdown",
   "metadata": {}
  },
  {
   "source": [
    "## 3DVarの観測分布への依存性を調べる\n",
    "\n",
    "cut size: 0 ~ 40\n",
    "各cut sizeで1サンプルの平均をとる"
   ],
   "cell_type": "markdown",
   "metadata": {}
  },
  {
   "cell_type": "code",
   "execution_count": null,
   "metadata": {},
   "outputs": [],
   "source": [
    "# 実行済\n",
    "# %%time\n",
    "# results = []\n",
    "# max_cut_size = 40\n",
    "# n_samples = 1\n",
    "# for cut_obs_size in range(max_cut_size+1):\n",
    "#     print('===========\\n')\n",
    "#     print('cut_obs_size: {}'.format(cut_obs_size))\n",
    "    \n",
    "#     var3d_random_cut_obs_samples = []\n",
    "#     for n in range(n_samples):\n",
    "#         print('---------------')\n",
    "#         print('n: {}'.format(n))\n",
    "        \n",
    "#         var3d_random_cut_obs = ExKF(M, H, Q, R, y, x_0, P_0=I, dim_x=J, dt=dt, var3d=True, cut_obs_size=cut_obs_size)\n",
    "#         var3d_random_cut_obs.forward_estimation()\n",
    "#         var3d_random_cut_obs_samples.append(var3d_random_cut_obs.x)\n",
    "#     results.append(np.array(var3d_random_cut_obs_samples).mean(axis=0))\n",
    "# np.save('data/var3d/var3d_random_cut_obs_{}parametrized_{}samples.npy'.format(max_cut_size, n_samples), results)"
   ]
  },
  {
   "cell_type": "code",
   "execution_count": null,
   "metadata": {},
   "outputs": [],
   "source": [
    "max_cut_size = 40\n",
    "n_samples = 1\n",
    "var3d_random_cut_obs_results = np.load('data/var3d/var3d_random_cut_obs_{}parametrized_{}samples.npy'.format(max_cut_size, n_samples))\n",
    "params_cut_obs = range(max_cut_size+1)\n",
    "legends = ['cut size = {}'.format(n) for n in params_cut_obs]\n",
    "plot_error_KF(true, y, var3d_random_cut_obs_results, legends)\n",
    "estimate_error_with_params(true, var3d_random_cut_obs_results, params_cut_obs, 'cut size ({}sample mean)'.format(n_samples), log=False)"
   ]
  },
  {
   "source": [
    "### 観察\n",
    "- 1min程度かかった\n",
    "- 観測を減らす数が30あたりから急激にrmseが上昇している．\n",
    "- 観測が0になるとrmseはアトラクター平均距離(５くらい)になっている．"
   ],
   "cell_type": "markdown",
   "metadata": {}
  },
  {
   "source": [
    "## 3次元変分法のパラメータ依存性\n",
    "\n",
    "1. $R = rI$として$r$を変化させる．\n",
    "2. $P_0 = p_0 I$として$p_0$を変化させる．\n",
    "\n",
    "#### 仮説\n",
    "- $r$を大きくするとモデルに近づく. \n",
    "- $p_0$を大きくするとデータに近づく．\n"
   ],
   "cell_type": "markdown",
   "metadata": {}
  },
  {
   "source": [
    "### 観測誤差$R$を変化させる\n",
    "- $r$の値を指数的に増加させる．"
   ],
   "cell_type": "markdown",
   "metadata": {}
  },
  {
   "cell_type": "code",
   "execution_count": null,
   "metadata": {},
   "outputs": [],
   "source": [
    "# 実行済\n",
    "# results_r = []\n",
    "# params_r = []\n",
    "# P_00 = I\n",
    "# for k in range(7):\n",
    "#     r = 10**(k-2)\n",
    "#     params_r.append(r)\n",
    "#     R_r = r*I\n",
    "#     var3d_r = ExKF(M, H, Q, R_r, y, x_0, P_00, dim_x=J, dt=dt, var3d=True)\n",
    "#     var3d_r.forward_estimation()\n",
    "#     results_r.append(var3d_r.x)\n",
    "# np.save('data/var3d/var3d_r_parametrized.npy', np.array(results_r))"
   ]
  },
  {
   "cell_type": "code",
   "execution_count": null,
   "metadata": {},
   "outputs": [],
   "source": [
    "vard3_results_r = np.load('data/var3d/var3d_r_parametrized.npy')\n",
    "params_r = [10**(k-2) for k in range(7)]\n",
    "legends_r = ['r = {}'.format(r) for r in params_r]\n",
    "plot_error_KF(true, y, vard3_results_r, legends = legends_r)\n",
    "estimate_error_with_params(true, vard3_results_r, params_r, 'r', log=True)"
   ]
  },
  {
   "source": [
    "### 観察\n",
    "- $r$が小さいと推定が観測データに近づく． 観測誤差~ 推定誤差．\n",
    "- $r$を大きくすると推定誤差が小さくなるがある値を超えると観測誤差を超えて大きくなる．"
   ],
   "cell_type": "markdown",
   "metadata": {}
  },
  {
   "source": [
    "### 誤差共分散$P_0$を変化させる\n",
    "- $p_0$の値を指数的に増加させる．"
   ],
   "cell_type": "markdown",
   "metadata": {}
  },
  {
   "cell_type": "code",
   "execution_count": null,
   "metadata": {},
   "outputs": [],
   "source": [
    "# 実行済\n",
    "# results_var3d_p = []\n",
    "# params_p = []\n",
    "# for k in range(7):\n",
    "#     p = 10**(k-4)\n",
    "#     params_p.append(p)\n",
    "#     P_00 = p*I\n",
    "#     var3d_r = ExKF(M, H, Q, R, y, x_0, P_0=P_00, dim_x=J, dt=dt, var3d=True)\n",
    "#     var3d_r.forward_estimation()\n",
    "#     results_var3d_p.append(var3d_r.x)\n",
    "# np.save('data/var3d/var3d_p_parametrized.npy', np.array(results_var3d_p))"
   ]
  },
  {
   "cell_type": "code",
   "execution_count": null,
   "metadata": {},
   "outputs": [],
   "source": [
    "vard3_results_p = np.load('data/var3d/var3d_p_parametrized.npy')\n",
    "params_p = [10**(k-4) for k in range(7)]\n",
    "legends_p = ['p_0 = {}'.format(p) for p in params_p]\n",
    "plot_error_KF(true, y, vard3_results_p, legends = legends_p)\n",
    "estimate_error_with_params(true, vard3_results_p, params_p, 'p', log=True)"
   ]
  },
  {
   "source": [
    "### 観察\n",
    "- $p_0$が小さいと観測誤差を超えて大きい推定誤差になっている．\n",
    "- $p_0$を大きくすると推定誤差が小さくなるがある値を超えると観測誤差1に近づく．\n",
    "- $r$を変化させた時と逆の挙動をしている．"
   ],
   "cell_type": "markdown",
   "metadata": {}
  },
  {
   "source": [
    "## $P_0 = p_0 I$の最適化"
   ],
   "cell_type": "markdown",
   "metadata": {}
  },
  {
   "source": [
    "# %%time\n",
    "# results_var3d_p = []\n",
    "# params_p = []\n",
    "# for k in range(11):\n",
    "#     p = 0.23 - 0.01 + 0.002*k\n",
    "#     params_p.append(p)\n",
    "#     P_00 = p*I\n",
    "#     var3d_r = ExKF(M, H, Q, R, y, x_0, P_0=P_00, dt=dt, var3d=True)\n",
    "#     var3d_r.forward_estimation()\n",
    "#     results_var3d_p.append(var3d_r.x)\n",
    "# np.save('data/var3d/var3d_p_detail_parametrized.npy', np.array(results_var3d_p))"
   ],
   "cell_type": "code",
   "metadata": {},
   "execution_count": null,
   "outputs": []
  },
  {
   "cell_type": "code",
   "execution_count": null,
   "metadata": {},
   "outputs": [],
   "source": [
    "vard3_results_p = np.load('data/var3d/var3d_p_detail_parametrized.npy')\n",
    "params_p = [0.23 - 0.01 + 0.002*k for k in range(11)]\n",
    "legends_p = ['p_0 = {}'.format(p) for p in params_p]\n",
    "plot_error_KF(true, y, vard3_results_p, legends = legends_p)\n",
    "estimate_error_with_params(true, vard3_results_p, params_p, 'p')"
   ]
  },
  {
   "source": [
    "### 観察\n",
    "- $0.002$ 刻みでは$ p_0 = 0.228 $が最適\n",
    "- rmseは0.3871\n",
    "- 実行速度は: 1.49s"
   ],
   "cell_type": "markdown",
   "metadata": {}
  },
  {
   "cell_type": "code",
   "execution_count": null,
   "metadata": {},
   "outputs": [],
   "source": []
  },
  {
   "cell_type": "code",
   "execution_count": null,
   "metadata": {},
   "outputs": [],
   "source": []
  },
  {
   "cell_type": "code",
   "execution_count": null,
   "metadata": {},
   "outputs": [],
   "source": []
  }
 ]
}